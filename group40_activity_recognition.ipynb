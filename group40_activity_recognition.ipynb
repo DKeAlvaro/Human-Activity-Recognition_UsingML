{
 "cells": [
  {
   "cell_type": "markdown",
   "id": "33724c92",
   "metadata": {},
   "source": [
    "# Human Activity Recognition for Healthy Lifestyle Monitoring"
   ]
  },
  {
   "cell_type": "markdown",
   "id": "ade6d864",
   "metadata": {},
   "source": [
    "Group 40: Alvaro Menéndez Ros, Juan José Leguineche Gállego, Pablo Herrero Ortiz"
   ]
  },
  {
   "cell_type": "markdown",
   "id": "3697b013",
   "metadata": {},
   "source": [
    "## Description"
   ]
  },
  {
   "cell_type": "markdown",
   "id": "3084dd44",
   "metadata": {},
   "source": [
    "This project implements a **Human Activity Recognition (HAR) system** using smartphone sensor data to classify five core daily activities: sitting down, standing up, walking, running, and climbing stairs. The solution follows a complete pipeline, including:\n",
    "\n",
    "1. **Data Acquisition**: Collecting raw accelerometer, gravitational and gyroscope signals from smartphones during different activities.  \n",
    "2. **Preprocessing**: Cleaning and segmenting noisy time-series data into structured windows.  \n",
    "3. **Feature Extraction**: Deriving meaningful statistical and frequency-based features that capture movement patterns.  \n",
    "4. **Model Development**: Training supervised machine learning models to distinguish between activities.  \n",
    "5. **Evaluation**: Assessing model performance using accuracy, precision, recall, and confusion matrices to ensure robustness.  \n",
    "\n",
    "By simulating real-world challenges in digital health, the system demonstrates how wearable sensor data can be transformed into actionable insights for **health monitoring and activity tracking applications**.  \n"
   ]
  },
  {
   "cell_type": "markdown",
   "id": "7cf6a8a1",
   "metadata": {},
   "source": [
    "## Data Acquisition\n",
    "\n"
   ]
  },
  {
   "cell_type": "code",
   "execution_count": null,
   "id": "bb38079b",
   "metadata": {
    "vscode": {
     "languageId": "plaintext"
    }
   },
   "outputs": [],
   "source": []
  },
  {
   "cell_type": "markdown",
   "id": "816bc608",
   "metadata": {},
   "source": [
    " ## Preprocessing\n"
   ]
  },
  {
   "cell_type": "code",
   "execution_count": null,
   "id": "9802ff76",
   "metadata": {
    "vscode": {
     "languageId": "plaintext"
    }
   },
   "outputs": [],
   "source": []
  },
  {
   "cell_type": "markdown",
   "id": "031b7d06",
   "metadata": {},
   "source": [
    "## Feature extraction"
   ]
  },
  {
   "cell_type": "code",
   "execution_count": null,
   "id": "65eed828",
   "metadata": {
    "vscode": {
     "languageId": "plaintext"
    }
   },
   "outputs": [],
   "source": []
  },
  {
   "cell_type": "markdown",
   "id": "21c882a4",
   "metadata": {},
   "source": [
    "## Model development"
   ]
  },
  {
   "cell_type": "code",
   "execution_count": null,
   "id": "9cbc1c45",
   "metadata": {
    "vscode": {
     "languageId": "plaintext"
    }
   },
   "outputs": [],
   "source": []
  },
  {
   "cell_type": "markdown",
   "id": "82483cee",
   "metadata": {},
   "source": [
    "## Evaluation"
   ]
  },
  {
   "cell_type": "code",
   "execution_count": null,
   "id": "6a69a140",
   "metadata": {
    "vscode": {
     "languageId": "plaintext"
    }
   },
   "outputs": [],
   "source": []
  }
 ],
 "metadata": {
  "language_info": {
   "name": "python"
  }
 },
 "nbformat": 4,
 "nbformat_minor": 5
}
